{
 "cells": [
  {
   "cell_type": "markdown",
   "metadata": {},
   "source": [
    "# Model Template"
   ]
  },
  {
   "cell_type": "markdown",
   "metadata": {},
   "source": [
    "## Import Dependencies"
   ]
  },
  {
   "cell_type": "code",
   "execution_count": 1,
   "metadata": {},
   "outputs": [],
   "source": [
    "import mesa\n",
    "\n",
    "# Data visualization tools.\n",
    "import seaborn as sns\n",
    "\n",
    "# Has multi-dimensional arrays and matrices. Has a large collection of\n",
    "# mathematical functions to operate on these arrays.\n",
    "import numpy as np\n",
    "\n",
    "# Data manipulation and analysis.\n",
    "import pandas as pd"
   ]
  },
  {
   "cell_type": "markdown",
   "metadata": {},
   "source": [
    "## Create Model and Agents"
   ]
  },
  {
   "cell_type": "code",
   "execution_count": 2,
   "metadata": {},
   "outputs": [],
   "source": [
    "class MyAgent(mesa.Agent):\n",
    "    \"\"\"An agent with some initial attribute value.\"\"\"\n",
    "\n",
    "    def __init__(self, model):\n",
    "        # Pass the parameters to the parent class.\n",
    "        super().__init__(model)\n",
    "\n",
    "        # Create the agent's attribute and set the initial values.\n",
    "        self.myAttribute = 1\n",
    "\n",
    "    def say_hi(self):\n",
    "        # The agent's step will go here.\n",
    "        # For demonstration purposes we will print the agent's unique_id\n",
    "        print(f\"Hi, I am an agent, you can call me {str(self.unique_id)}.\")\n",
    "\n",
    "\n",
    "class MyModel(mesa.Model):\n",
    "    \"\"\"A model with some number of agents.\"\"\"\n",
    "\n",
    "    def __init__(self, n, seed=None):\n",
    "        super().__init__(seed=seed)\n",
    "        self.num_agents = n\n",
    "\n",
    "        # Create agents\n",
    "        for _ in range(self.num_agents):\n",
    "            a = MyAgent(self)  # This calls the agent class parameter n number of times\n",
    "\n",
    "    def step(self):\n",
    "        \"\"\"Advance the model by one step.\"\"\"\n",
    "\n",
    "        # This function psuedo-randomly reorders the list of agent objects and\n",
    "        # then iterates through calling the function passed in as the parameter\n",
    "        self.agents.shuffle_do(\"say_hi\")"
   ]
  },
  {
   "cell_type": "markdown",
   "metadata": {},
   "source": [
    "## Run Model"
   ]
  },
  {
   "cell_type": "code",
   "execution_count": 5,
   "metadata": {},
   "outputs": [
    {
     "name": "stdout",
     "output_type": "stream",
     "text": [
      "Step 1\n",
      "Hi, I am an agent, you can call me 6.\n",
      "Hi, I am an agent, you can call me 10.\n",
      "Hi, I am an agent, you can call me 4.\n",
      "Hi, I am an agent, you can call me 2.\n",
      "Hi, I am an agent, you can call me 5.\n",
      "Hi, I am an agent, you can call me 3.\n",
      "Hi, I am an agent, you can call me 1.\n",
      "Hi, I am an agent, you can call me 7.\n",
      "Hi, I am an agent, you can call me 9.\n",
      "Hi, I am an agent, you can call me 8.\n",
      "Step 2\n",
      "Hi, I am an agent, you can call me 3.\n",
      "Hi, I am an agent, you can call me 6.\n",
      "Hi, I am an agent, you can call me 2.\n",
      "Hi, I am an agent, you can call me 1.\n",
      "Hi, I am an agent, you can call me 10.\n",
      "Hi, I am an agent, you can call me 9.\n",
      "Hi, I am an agent, you can call me 5.\n",
      "Hi, I am an agent, you can call me 4.\n",
      "Hi, I am an agent, you can call me 8.\n",
      "Hi, I am an agent, you can call me 7.\n",
      "Step 3\n",
      "Hi, I am an agent, you can call me 1.\n",
      "Hi, I am an agent, you can call me 9.\n",
      "Hi, I am an agent, you can call me 6.\n",
      "Hi, I am an agent, you can call me 5.\n",
      "Hi, I am an agent, you can call me 3.\n",
      "Hi, I am an agent, you can call me 2.\n",
      "Hi, I am an agent, you can call me 7.\n",
      "Hi, I am an agent, you can call me 4.\n",
      "Hi, I am an agent, you can call me 8.\n",
      "Hi, I am an agent, you can call me 10.\n",
      "Step 4\n",
      "Hi, I am an agent, you can call me 9.\n",
      "Hi, I am an agent, you can call me 2.\n",
      "Hi, I am an agent, you can call me 3.\n",
      "Hi, I am an agent, you can call me 1.\n",
      "Hi, I am an agent, you can call me 8.\n",
      "Hi, I am an agent, you can call me 7.\n",
      "Hi, I am an agent, you can call me 4.\n",
      "Hi, I am an agent, you can call me 5.\n",
      "Hi, I am an agent, you can call me 10.\n",
      "Hi, I am an agent, you can call me 6.\n",
      "Step 5\n",
      "Hi, I am an agent, you can call me 4.\n",
      "Hi, I am an agent, you can call me 1.\n",
      "Hi, I am an agent, you can call me 9.\n",
      "Hi, I am an agent, you can call me 7.\n",
      "Hi, I am an agent, you can call me 6.\n",
      "Hi, I am an agent, you can call me 10.\n",
      "Hi, I am an agent, you can call me 2.\n",
      "Hi, I am an agent, you can call me 3.\n",
      "Hi, I am an agent, you can call me 8.\n",
      "Hi, I am an agent, you can call me 5.\n"
     ]
    }
   ],
   "source": [
    "model = MyModel(10)  # Tells the model to create 10 agents\n",
    "for step in range(5):  # Runs the model for 5 steps\n",
    "    print(f\"Step {step+1}\")\n",
    "    model.step()"
   ]
  }
 ],
 "metadata": {
  "kernelspec": {
   "display_name": "mesa_env",
   "language": "python",
   "name": "python3"
  },
  "language_info": {
   "codemirror_mode": {
    "name": "ipython",
    "version": 3
   },
   "file_extension": ".py",
   "mimetype": "text/x-python",
   "name": "python",
   "nbconvert_exporter": "python",
   "pygments_lexer": "ipython3",
   "version": "3.13.1"
  }
 },
 "nbformat": 4,
 "nbformat_minor": 4
}
